{
 "cells": [
  {
   "cell_type": "code",
   "execution_count": 1,
   "id": "445babce",
   "metadata": {},
   "outputs": [],
   "source": [
    "# Data Preprocessing - Cleaning Data, Transforming Data and making Data ready for Building\n",
    "# models.\n",
    "# 1) Check for Duplicate columns or variables. info(), head, tail \n",
    "\n",
    "# 2) Identify null columns or Zero Data columns. info()\n",
    "\n",
    "# 3) Missing Value Treatment - Imputation of Missing values is critical as it has a direct\n",
    "# effect on the machine learning models.\n",
    "\n",
    "# Manual Methods of Missing Value Imputation\n",
    "# If a variable or column has more than 70% missing values and it is a critical column, then\n",
    "# missing values must be imputed incase of Non Numeric Categorical Data with \"Missing\" or\n",
    "# \"NotAvailable\" and if it is numeric variable create a missing code like 9999, etc.\n",
    "# If a variable or column has more than 70% missing values and it is not a critical column\n",
    "# delete the column.\n",
    "\n",
    "# If a variable or column has less than 70% missing values and if it is\n",
    "# Numeric Variable - Impute with Mean or Median\n",
    "# Non Numeric Categorical Variable - Impute with Mode or most frequent\n",
    "\n",
    "# The above methods are manual methods which do not take into consideration impact of other\n",
    "# variables on the missing values during imputation\n",
    "\n",
    "# Algorithm Based Missing Value Imputations - This method evaluates the impact of other \n",
    "# variables on missing value and accordingly impute the missing value.\n",
    "# Multivariate Imputation using Chained Equations (MICE) - Imputes both Numeric and Non Numeric\n",
    "# Categorical data effectively and widely used method. python (IterativeImputer)\n",
    "# KNNImputer - Uses K Nearest Neighbors Algorithm for Missing value imputation and works\n",
    "# only with numeric data\n",
    "\n",
    "# 4) Data Transormation - Transforming Data into a new type\n",
    "# Dependent Variable (y) is the variable that is being predicted and if it has\n",
    "# Positive Skewness - Logarthmic Transformation or Square Root Transformation\n",
    "# Negative Skewness - Exponential Transformation or Power Transformation\n",
    "\n",
    "# Independent Variables(X's) are those variables that are used for predicting dependnet var(y)\n",
    "# Numeric Independent Variables in different units like discrete value, tens, hundreds,\n",
    "# thousands, lakhs, millions, etc.\n",
    "# For Example House Data - Price(lakhs), Size of House(thousands), number of bathrooms(2),\n",
    "# parking lot (50sft), etc. For bringing all values into a range Scaling must be implemented\n",
    "\n",
    "# Standardization or Standard Scaler = (x-mean)/stddeviation or Z Scores. Scale data into\n",
    "# both positive and negative numbers within a range\n",
    "\n",
    "# Normalization of Min Max Scaler = (X-Xmin)/(Xmax-Xmin) scales date into a range of 0 to 1\n",
    "# with only positive values.\n",
    "\n",
    "# Robust Scaler = (X-Q2)/(Q3-Q1) scales data into both positive and negative values and \n",
    "# used when there are many outliers in the data\n",
    "\n",
    "# 5) Dummy Variable Encoding or Assigning Numeric Identifiers to Levels/Classes/Groups in\n",
    "# Non Numeric Categorical Data. There must not be any single character or string must be there\n",
    "# when data is being sent into Machine Learning Models.\n",
    "# Independent Variables (X's)\n",
    "# Gender           - Male, Female, Female, Female, Male, Male, Female\n",
    "# pd.get_dummies() will create new columns equivalent to as many levels/classes in categorical\n",
    "# variable and uses Binary Encoding (Yes-1 & No -0).\n",
    "# Gender_Male     - 1, 0, 0, 0, 1, 1, 0\n",
    "# Gender_Female   - 0, 1, 1, 1, 0, 0, 1\n",
    "# OneHotEncoder() also does the same thing but all the columns will be in a Single Array\n",
    "\n",
    "# Dependent Variable (y) must be LabelEncoded\n",
    "# Loan Taken - Yes, No, No, No, Yes, Yes\n",
    "# LabelEncoder() encodes data in single column and starts with Zero to n levels in \n",
    "# alphabetical order.\n",
    "# Loan Taken - 1, 0, 0, 0, 0, 1, 1\n",
    "\n",
    "#6) Correct Duplicate levels/classes/groups in non numeric categorical variable. For Example\n",
    "# in Gender there are m, M, MALE, male, Male - Male\n",
    "\n",
    "#7) Working with Dates - Default date format is \"YYYY-MM-DD\". Most of the times date will be\n",
    "# read as object data. It must be converted to datetime[64ns] format using pd.to_datetime()\n",
    "# Once date is formatted into datetime[64ns] variables like weekday, monthname/num, quarter,\n",
    "# year, ismonthstart or end, etc can be extracted.\n",
    "\n",
    "#8) Extracting Characters from Strings using String Split function. Split String into \n",
    "# multiple columns using delimiter like comma or space.\n",
    "\n",
    "#9) Creating New variables from existing variables.\n",
    "\n",
    "#10) Converting data Structures from arrays to dataframes or dataframes to matrix , etc."
   ]
  },
  {
   "cell_type": "code",
   "execution_count": 2,
   "id": "dfe9201d",
   "metadata": {},
   "outputs": [],
   "source": [
    "import pandas as pd\n",
    "import numpy as np\n",
    "import matplotlib.pyplot as plt\n",
    "%matplotlib inline"
   ]
  },
  {
   "cell_type": "code",
   "execution_count": 3,
   "id": "1a063423",
   "metadata": {},
   "outputs": [
    {
     "name": "stdout",
     "output_type": "stream",
     "text": [
      "C:\\Users\\KHALEELBASHA\\Desktop\\pga30 rajesh sir\\BigMArt SAles\n"
     ]
    }
   ],
   "source": [
    "import io\n",
    "%cd C:\\Users\\KHALEELBASHA\\Desktop\\pga30 rajesh sir\\BigMArt SAles"
   ]
  },
  {
   "cell_type": "code",
   "execution_count": 4,
   "id": "3edd87ac",
   "metadata": {},
   "outputs": [],
   "source": [
    "# train file is complete data including dependent variable(y)\n",
    "# test file will not have dependent variable (y) which needs to be predicted using model\n",
    "# built on train data\n",
    "# sample submission file is where predictions are copied for uploading into competition site\n",
    "# for checking the result and rank"
   ]
  },
  {
   "cell_type": "code",
   "execution_count": 5,
   "id": "6729f8b8",
   "metadata": {},
   "outputs": [],
   "source": [
    "salestrain=pd.read_csv(\"train_v9rqX0R.csv\")"
   ]
  },
  {
   "cell_type": "code",
   "execution_count": 6,
   "id": "85e9be08",
   "metadata": {},
   "outputs": [],
   "source": [
    "salestest=pd.read_csv(\"test_AbJTz2l.csv\")"
   ]
  },
  {
   "cell_type": "code",
   "execution_count": 7,
   "id": "68868642",
   "metadata": {},
   "outputs": [
    {
     "name": "stdout",
     "output_type": "stream",
     "text": [
      "(8523, 12)\n",
      "(5681, 11)\n"
     ]
    }
   ],
   "source": [
    "print(salestrain.shape)\n",
    "print(salestest.shape)"
   ]
  },
  {
   "cell_type": "code",
   "execution_count": 8,
   "id": "08ba3680",
   "metadata": {},
   "outputs": [
    {
     "name": "stdout",
     "output_type": "stream",
     "text": [
      "<class 'pandas.core.frame.DataFrame'>\n",
      "RangeIndex: 8523 entries, 0 to 8522\n",
      "Data columns (total 12 columns):\n",
      " #   Column                     Non-Null Count  Dtype  \n",
      "---  ------                     --------------  -----  \n",
      " 0   Item_Identifier            8523 non-null   object \n",
      " 1   Item_Weight                7060 non-null   float64\n",
      " 2   Item_Fat_Content           8523 non-null   object \n",
      " 3   Item_Visibility            8523 non-null   float64\n",
      " 4   Item_Type                  8523 non-null   object \n",
      " 5   Item_MRP                   8523 non-null   float64\n",
      " 6   Outlet_Identifier          8523 non-null   object \n",
      " 7   Outlet_Establishment_Year  8523 non-null   int64  \n",
      " 8   Outlet_Size                6113 non-null   object \n",
      " 9   Outlet_Location_Type       8523 non-null   object \n",
      " 10  Outlet_Type                8523 non-null   object \n",
      " 11  Item_Outlet_Sales          8523 non-null   float64\n",
      "dtypes: float64(4), int64(1), object(7)\n",
      "memory usage: 799.2+ KB\n"
     ]
    }
   ],
   "source": [
    "salestrain.info()"
   ]
  },
  {
   "cell_type": "code",
   "execution_count": 9,
   "id": "80073005",
   "metadata": {},
   "outputs": [
    {
     "name": "stdout",
     "output_type": "stream",
     "text": [
      "<class 'pandas.core.frame.DataFrame'>\n",
      "RangeIndex: 5681 entries, 0 to 5680\n",
      "Data columns (total 11 columns):\n",
      " #   Column                     Non-Null Count  Dtype  \n",
      "---  ------                     --------------  -----  \n",
      " 0   Item_Identifier            5681 non-null   object \n",
      " 1   Item_Weight                4705 non-null   float64\n",
      " 2   Item_Fat_Content           5681 non-null   object \n",
      " 3   Item_Visibility            5681 non-null   float64\n",
      " 4   Item_Type                  5681 non-null   object \n",
      " 5   Item_MRP                   5681 non-null   float64\n",
      " 6   Outlet_Identifier          5681 non-null   object \n",
      " 7   Outlet_Establishment_Year  5681 non-null   int64  \n",
      " 8   Outlet_Size                4075 non-null   object \n",
      " 9   Outlet_Location_Type       5681 non-null   object \n",
      " 10  Outlet_Type                5681 non-null   object \n",
      "dtypes: float64(3), int64(1), object(7)\n",
      "memory usage: 488.3+ KB\n"
     ]
    }
   ],
   "source": [
    "salestest.info()"
   ]
  },
  {
   "cell_type": "code",
   "execution_count": 10,
   "id": "8b4f2013",
   "metadata": {},
   "outputs": [],
   "source": [
    "# Temporarily add dependent variable to test data for preprocessing\n",
    "salestest['Item_Outlet_Sales']='test'"
   ]
  },
  {
   "cell_type": "code",
   "execution_count": 11,
   "id": "73e79e6b",
   "metadata": {},
   "outputs": [],
   "source": [
    "# Combine Both Dataframes for preprocessing\n",
    "# For Concatenation of 2 dataframes the number of variables and squence of variables must be\n",
    "# same.\n",
    "combinedf=pd.concat([salestrain,salestest],axis=0)\n",
    "# axis=0 is Row wise Concatenation\n",
    "# axis=1 is Column wise Concatenation"
   ]
  },
  {
   "cell_type": "code",
   "execution_count": 12,
   "id": "0d5c230c",
   "metadata": {},
   "outputs": [
    {
     "name": "stdout",
     "output_type": "stream",
     "text": [
      "<class 'pandas.core.frame.DataFrame'>\n",
      "Int64Index: 14204 entries, 0 to 5680\n",
      "Data columns (total 12 columns):\n",
      " #   Column                     Non-Null Count  Dtype  \n",
      "---  ------                     --------------  -----  \n",
      " 0   Item_Identifier            14204 non-null  object \n",
      " 1   Item_Weight                11765 non-null  float64\n",
      " 2   Item_Fat_Content           14204 non-null  object \n",
      " 3   Item_Visibility            14204 non-null  float64\n",
      " 4   Item_Type                  14204 non-null  object \n",
      " 5   Item_MRP                   14204 non-null  float64\n",
      " 6   Outlet_Identifier          14204 non-null  object \n",
      " 7   Outlet_Establishment_Year  14204 non-null  int64  \n",
      " 8   Outlet_Size                10188 non-null  object \n",
      " 9   Outlet_Location_Type       14204 non-null  object \n",
      " 10  Outlet_Type                14204 non-null  object \n",
      " 11  Item_Outlet_Sales          14204 non-null  object \n",
      "dtypes: float64(3), int64(1), object(8)\n",
      "memory usage: 1.4+ MB\n"
     ]
    }
   ],
   "source": [
    "combinedf.info()"
   ]
  },
  {
   "cell_type": "code",
   "execution_count": 13,
   "id": "230d64ef",
   "metadata": {},
   "outputs": [
    {
     "data": {
      "text/html": [
       "<div>\n",
       "<style scoped>\n",
       "    .dataframe tbody tr th:only-of-type {\n",
       "        vertical-align: middle;\n",
       "    }\n",
       "\n",
       "    .dataframe tbody tr th {\n",
       "        vertical-align: top;\n",
       "    }\n",
       "\n",
       "    .dataframe thead th {\n",
       "        text-align: right;\n",
       "    }\n",
       "</style>\n",
       "<table border=\"1\" class=\"dataframe\">\n",
       "  <thead>\n",
       "    <tr style=\"text-align: right;\">\n",
       "      <th></th>\n",
       "      <th>Item_Identifier</th>\n",
       "      <th>Item_Weight</th>\n",
       "      <th>Item_Fat_Content</th>\n",
       "      <th>Item_Visibility</th>\n",
       "      <th>Item_Type</th>\n",
       "      <th>Item_MRP</th>\n",
       "      <th>Outlet_Identifier</th>\n",
       "      <th>Outlet_Establishment_Year</th>\n",
       "      <th>Outlet_Size</th>\n",
       "      <th>Outlet_Location_Type</th>\n",
       "      <th>Outlet_Type</th>\n",
       "      <th>Item_Outlet_Sales</th>\n",
       "    </tr>\n",
       "  </thead>\n",
       "  <tbody>\n",
       "    <tr>\n",
       "      <th>5676</th>\n",
       "      <td>FDB58</td>\n",
       "      <td>10.5</td>\n",
       "      <td>Regular</td>\n",
       "      <td>0.013496</td>\n",
       "      <td>Snack Foods</td>\n",
       "      <td>141.3154</td>\n",
       "      <td>OUT046</td>\n",
       "      <td>1997</td>\n",
       "      <td>Small</td>\n",
       "      <td>Tier 1</td>\n",
       "      <td>Supermarket Type1</td>\n",
       "      <td>test</td>\n",
       "    </tr>\n",
       "    <tr>\n",
       "      <th>5677</th>\n",
       "      <td>FDD47</td>\n",
       "      <td>7.6</td>\n",
       "      <td>Regular</td>\n",
       "      <td>0.142991</td>\n",
       "      <td>Starchy Foods</td>\n",
       "      <td>169.1448</td>\n",
       "      <td>OUT018</td>\n",
       "      <td>2009</td>\n",
       "      <td>Medium</td>\n",
       "      <td>Tier 3</td>\n",
       "      <td>Supermarket Type2</td>\n",
       "      <td>test</td>\n",
       "    </tr>\n",
       "    <tr>\n",
       "      <th>5678</th>\n",
       "      <td>NCO17</td>\n",
       "      <td>10.0</td>\n",
       "      <td>Low Fat</td>\n",
       "      <td>0.073529</td>\n",
       "      <td>Health and Hygiene</td>\n",
       "      <td>118.7440</td>\n",
       "      <td>OUT045</td>\n",
       "      <td>2002</td>\n",
       "      <td>NaN</td>\n",
       "      <td>Tier 2</td>\n",
       "      <td>Supermarket Type1</td>\n",
       "      <td>test</td>\n",
       "    </tr>\n",
       "    <tr>\n",
       "      <th>5679</th>\n",
       "      <td>FDJ26</td>\n",
       "      <td>15.3</td>\n",
       "      <td>Regular</td>\n",
       "      <td>0.000000</td>\n",
       "      <td>Canned</td>\n",
       "      <td>214.6218</td>\n",
       "      <td>OUT017</td>\n",
       "      <td>2007</td>\n",
       "      <td>NaN</td>\n",
       "      <td>Tier 2</td>\n",
       "      <td>Supermarket Type1</td>\n",
       "      <td>test</td>\n",
       "    </tr>\n",
       "    <tr>\n",
       "      <th>5680</th>\n",
       "      <td>FDU37</td>\n",
       "      <td>9.5</td>\n",
       "      <td>Regular</td>\n",
       "      <td>0.104720</td>\n",
       "      <td>Canned</td>\n",
       "      <td>79.7960</td>\n",
       "      <td>OUT045</td>\n",
       "      <td>2002</td>\n",
       "      <td>NaN</td>\n",
       "      <td>Tier 2</td>\n",
       "      <td>Supermarket Type1</td>\n",
       "      <td>test</td>\n",
       "    </tr>\n",
       "  </tbody>\n",
       "</table>\n",
       "</div>"
      ],
      "text/plain": [
       "     Item_Identifier  Item_Weight Item_Fat_Content  Item_Visibility  \\\n",
       "5676           FDB58         10.5          Regular         0.013496   \n",
       "5677           FDD47          7.6          Regular         0.142991   \n",
       "5678           NCO17         10.0          Low Fat         0.073529   \n",
       "5679           FDJ26         15.3          Regular         0.000000   \n",
       "5680           FDU37          9.5          Regular         0.104720   \n",
       "\n",
       "               Item_Type  Item_MRP Outlet_Identifier  \\\n",
       "5676         Snack Foods  141.3154            OUT046   \n",
       "5677       Starchy Foods  169.1448            OUT018   \n",
       "5678  Health and Hygiene  118.7440            OUT045   \n",
       "5679              Canned  214.6218            OUT017   \n",
       "5680              Canned   79.7960            OUT045   \n",
       "\n",
       "      Outlet_Establishment_Year Outlet_Size Outlet_Location_Type  \\\n",
       "5676                       1997       Small               Tier 1   \n",
       "5677                       2009      Medium               Tier 3   \n",
       "5678                       2002         NaN               Tier 2   \n",
       "5679                       2007         NaN               Tier 2   \n",
       "5680                       2002         NaN               Tier 2   \n",
       "\n",
       "            Outlet_Type Item_Outlet_Sales  \n",
       "5676  Supermarket Type1              test  \n",
       "5677  Supermarket Type2              test  \n",
       "5678  Supermarket Type1              test  \n",
       "5679  Supermarket Type1              test  \n",
       "5680  Supermarket Type1              test  "
      ]
     },
     "execution_count": 13,
     "metadata": {},
     "output_type": "execute_result"
    }
   ],
   "source": [
    "combinedf.tail()"
   ]
  },
  {
   "cell_type": "code",
   "execution_count": 14,
   "id": "519dbf75",
   "metadata": {},
   "outputs": [
    {
     "data": {
      "text/plain": [
       "count    11765.000000\n",
       "mean        12.792854\n",
       "std          4.652502\n",
       "min          4.555000\n",
       "25%          8.710000\n",
       "50%         12.600000\n",
       "75%         16.750000\n",
       "max         21.350000\n",
       "Name: Item_Weight, dtype: float64"
      ]
     },
     "execution_count": 14,
     "metadata": {},
     "output_type": "execute_result"
    }
   ],
   "source": [
    "combinedf.Item_Weight.describe()\n",
    "# Numeric Varible - Mean or Median Imputation can be done"
   ]
  },
  {
   "cell_type": "code",
   "execution_count": 15,
   "id": "816f562f",
   "metadata": {},
   "outputs": [],
   "source": [
    "# Mean Imputation\n",
    "combinedf.Item_Weight=combinedf.Item_Weight.fillna(combinedf.Item_Weight.mean())"
   ]
  },
  {
   "cell_type": "code",
   "execution_count": 16,
   "id": "4b612810",
   "metadata": {},
   "outputs": [
    {
     "data": {
      "text/plain": [
       "Medium    4655\n",
       "NaN       4016\n",
       "Small     3980\n",
       "High      1553\n",
       "Name: Outlet_Size, dtype: int64"
      ]
     },
     "execution_count": 16,
     "metadata": {},
     "output_type": "execute_result"
    }
   ],
   "source": [
    "combinedf.Outlet_Size.value_counts(dropna=False)"
   ]
  },
  {
   "cell_type": "code",
   "execution_count": 17,
   "id": "d1244ed7",
   "metadata": {},
   "outputs": [],
   "source": [
    "# Since missing values are very and cannot be imputed with existing levels, impute with word\n",
    "# missing\n",
    "combinedf.Outlet_Size=combinedf.Outlet_Size.fillna(\"Missing\")"
   ]
  },
  {
   "cell_type": "code",
   "execution_count": 18,
   "id": "bbcfeac0",
   "metadata": {},
   "outputs": [
    {
     "data": {
      "text/plain": [
       "Low Fat    8485\n",
       "Regular    4824\n",
       "LF          522\n",
       "reg         195\n",
       "low fat     178\n",
       "Name: Item_Fat_Content, dtype: int64"
      ]
     },
     "execution_count": 18,
     "metadata": {},
     "output_type": "execute_result"
    }
   ],
   "source": [
    "combinedf.Item_Fat_Content.value_counts(dropna=False) # Duplicate Levels/Groups"
   ]
  },
  {
   "cell_type": "code",
   "execution_count": 19,
   "id": "7e80d0a9",
   "metadata": {},
   "outputs": [],
   "source": [
    "combinedf.Item_Fat_Content=combinedf.Item_Fat_Content.replace(['LF','low fat'],'Low Fat')"
   ]
  },
  {
   "cell_type": "code",
   "execution_count": 20,
   "id": "d2562c80",
   "metadata": {},
   "outputs": [],
   "source": [
    "combinedf.Item_Fat_Content=combinedf.Item_Fat_Content.replace('reg','Regular')"
   ]
  },
  {
   "cell_type": "code",
   "execution_count": 21,
   "id": "346cd07d",
   "metadata": {},
   "outputs": [],
   "source": [
    "# Split Data into numeric cols and object cols\n",
    "numcols=combinedf.select_dtypes(include=np.number)\n",
    "objcols=combinedf.select_dtypes(include=['object'])"
   ]
  },
  {
   "cell_type": "code",
   "execution_count": 22,
   "id": "5fca1ae5",
   "metadata": {},
   "outputs": [
    {
     "data": {
      "text/plain": [
       "Index(['Item_Weight', 'Item_Visibility', 'Item_MRP',\n",
       "       'Outlet_Establishment_Year'],\n",
       "      dtype='object')"
      ]
     },
     "execution_count": 22,
     "metadata": {},
     "output_type": "execute_result"
    }
   ],
   "source": [
    "numcols.columns"
   ]
  },
  {
   "cell_type": "code",
   "execution_count": 23,
   "id": "02991365",
   "metadata": {},
   "outputs": [
    {
     "data": {
      "text/plain": [
       "Index(['Item_Identifier', 'Item_Fat_Content', 'Item_Type', 'Outlet_Identifier',\n",
       "       'Outlet_Size', 'Outlet_Location_Type', 'Outlet_Type',\n",
       "       'Item_Outlet_Sales'],\n",
       "      dtype='object')"
      ]
     },
     "execution_count": 23,
     "metadata": {},
     "output_type": "execute_result"
    }
   ],
   "source": [
    "objcols.columns"
   ]
  },
  {
   "cell_type": "code",
   "execution_count": 24,
   "id": "663a15fe",
   "metadata": {},
   "outputs": [
    {
     "name": "stdout",
     "output_type": "stream",
     "text": [
      "Low Fat    9185\n",
      "Regular    5019\n",
      "Name: Item_Fat_Content, dtype: int64\n",
      "Fruits and Vegetables    2013\n",
      "Snack Foods              1989\n",
      "Household                1548\n",
      "Frozen Foods             1426\n",
      "Dairy                    1136\n",
      "Baking Goods             1086\n",
      "Canned                   1084\n",
      "Health and Hygiene        858\n",
      "Meat                      736\n",
      "Soft Drinks               726\n",
      "Breads                    416\n",
      "Hard Drinks               362\n",
      "Others                    280\n",
      "Starchy Foods             269\n",
      "Breakfast                 186\n",
      "Seafood                    89\n",
      "Name: Item_Type, dtype: int64\n",
      "OUT027    1559\n",
      "OUT013    1553\n",
      "OUT049    1550\n",
      "OUT046    1550\n",
      "OUT035    1550\n",
      "OUT045    1548\n",
      "OUT018    1546\n",
      "OUT017    1543\n",
      "OUT010     925\n",
      "OUT019     880\n",
      "Name: Outlet_Identifier, dtype: int64\n",
      "Medium     4655\n",
      "Missing    4016\n",
      "Small      3980\n",
      "High       1553\n",
      "Name: Outlet_Size, dtype: int64\n",
      "Tier 3    5583\n",
      "Tier 2    4641\n",
      "Tier 1    3980\n",
      "Name: Outlet_Location_Type, dtype: int64\n",
      "Supermarket Type1    9294\n",
      "Grocery Store        1805\n",
      "Supermarket Type3    1559\n",
      "Supermarket Type2    1546\n",
      "Name: Outlet_Type, dtype: int64\n"
     ]
    }
   ],
   "source": [
    "for col in objcols.columns[1:7]:\n",
    "    freq=objcols[col].value_counts(dropna=False)\n",
    "    print(freq)"
   ]
  },
  {
   "cell_type": "code",
   "execution_count": 25,
   "id": "a254dc41",
   "metadata": {},
   "outputs": [
    {
     "data": {
      "text/plain": [
       "0    FDA15\n",
       "1    DRC01\n",
       "2    FDN15\n",
       "3    FDX07\n",
       "4    NCD19\n",
       "5    FDP36\n",
       "6    FDO10\n",
       "7    FDP10\n",
       "8    FDH17\n",
       "9    FDU28\n",
       "Name: Item_Identifier, dtype: object"
      ]
     },
     "execution_count": 25,
     "metadata": {},
     "output_type": "execute_result"
    }
   ],
   "source": [
    "objcols.Item_Identifier.head(10)"
   ]
  },
  {
   "cell_type": "code",
   "execution_count": 26,
   "id": "13b0200e",
   "metadata": {},
   "outputs": [],
   "source": [
    "#def functionname:\n",
    "#    argments\n",
    "#return\n",
    "\n",
    "# lambda function is anoanymous function. Funtion without name. Keyword lambda must be used\n",
    "# lambda arguments"
   ]
  },
  {
   "cell_type": "code",
   "execution_count": 27,
   "id": "b5b4c17b",
   "metadata": {},
   "outputs": [],
   "source": [
    "# Function with name\n",
    "def addition(x1,x2):\n",
    "    addition=x1+x2\n",
    "    return addition"
   ]
  },
  {
   "cell_type": "code",
   "execution_count": 28,
   "id": "88b7c830",
   "metadata": {},
   "outputs": [
    {
     "data": {
      "text/plain": [
       "5"
      ]
     },
     "execution_count": 28,
     "metadata": {},
     "output_type": "execute_result"
    }
   ],
   "source": [
    "x1=2\n",
    "x2=3\n",
    "addition(x1,x2)"
   ]
  },
  {
   "cell_type": "code",
   "execution_count": 29,
   "id": "90ee3dff",
   "metadata": {},
   "outputs": [
    {
     "name": "stdout",
     "output_type": "stream",
     "text": [
      "5\n"
     ]
    }
   ],
   "source": [
    "# Function without name \n",
    "sum=lambda x1,x2:x1+x2\n",
    "print(sum(2,3))"
   ]
  },
  {
   "cell_type": "code",
   "execution_count": 30,
   "id": "ca800e47",
   "metadata": {},
   "outputs": [],
   "source": [
    "# Created a New Variable called Item_Code which is extraction of first 2 characters of \n",
    "# Item_Identifier\n",
    "objcols['Item_Code']=objcols.Item_Identifier.apply(lambda x:x[0:2])"
   ]
  },
  {
   "cell_type": "code",
   "execution_count": 31,
   "id": "5e2f61bf",
   "metadata": {},
   "outputs": [
    {
     "data": {
      "text/plain": [
       "FD    10201\n",
       "NC     2686\n",
       "DR     1317\n",
       "Name: Item_Code, dtype: int64"
      ]
     },
     "execution_count": 31,
     "metadata": {},
     "output_type": "execute_result"
    }
   ],
   "source": [
    "objcols.Item_Code.value_counts(dropna=False) # FD - Food, DR-Drinks & NC - Non-Consumable"
   ]
  },
  {
   "cell_type": "code",
   "execution_count": 32,
   "id": "abd85411",
   "metadata": {},
   "outputs": [],
   "source": [
    "# Create a new variable \"Outlet_Age\" from Outlet_Establishment_Year \n",
    "numcols[\"Outlet_Age\"]=2022-numcols.Outlet_Establishment_Year"
   ]
  },
  {
   "cell_type": "code",
   "execution_count": 33,
   "id": "9b9e822e",
   "metadata": {},
   "outputs": [
    {
     "data": {
      "text/plain": [
       "count    14204.000000\n",
       "mean        24.169319\n",
       "std          8.371664\n",
       "min         13.000000\n",
       "25%         18.000000\n",
       "50%         23.000000\n",
       "75%         35.000000\n",
       "max         37.000000\n",
       "Name: Outlet_Age, dtype: float64"
      ]
     },
     "execution_count": 33,
     "metadata": {},
     "output_type": "execute_result"
    }
   ],
   "source": [
    "numcols.Outlet_Age.describe()"
   ]
  },
  {
   "cell_type": "code",
   "execution_count": 34,
   "id": "ec0bb5ad",
   "metadata": {},
   "outputs": [
    {
     "data": {
      "text/plain": [
       "Index(['Item_Weight', 'Item_Visibility', 'Item_MRP',\n",
       "       'Outlet_Establishment_Year', 'Outlet_Age'],\n",
       "      dtype='object')"
      ]
     },
     "execution_count": 34,
     "metadata": {},
     "output_type": "execute_result"
    }
   ],
   "source": [
    "numcols.columns"
   ]
  },
  {
   "cell_type": "code",
   "execution_count": 35,
   "id": "00983637",
   "metadata": {},
   "outputs": [],
   "source": [
    "numcols=numcols.drop('Outlet_Establishment_Year',axis=1)\n",
    "# axis=1 is Column dropping"
   ]
  },
  {
   "cell_type": "code",
   "execution_count": 36,
   "id": "34f6bf29",
   "metadata": {},
   "outputs": [
    {
     "data": {
      "text/html": [
       "<div>\n",
       "<style scoped>\n",
       "    .dataframe tbody tr th:only-of-type {\n",
       "        vertical-align: middle;\n",
       "    }\n",
       "\n",
       "    .dataframe tbody tr th {\n",
       "        vertical-align: top;\n",
       "    }\n",
       "\n",
       "    .dataframe thead th {\n",
       "        text-align: right;\n",
       "    }\n",
       "</style>\n",
       "<table border=\"1\" class=\"dataframe\">\n",
       "  <thead>\n",
       "    <tr style=\"text-align: right;\">\n",
       "      <th></th>\n",
       "      <th>Item_Weight</th>\n",
       "      <th>Item_Visibility</th>\n",
       "      <th>Item_MRP</th>\n",
       "      <th>Outlet_Age</th>\n",
       "    </tr>\n",
       "  </thead>\n",
       "  <tbody>\n",
       "    <tr>\n",
       "      <th>0</th>\n",
       "      <td>9.30</td>\n",
       "      <td>0.016047</td>\n",
       "      <td>249.8092</td>\n",
       "      <td>23</td>\n",
       "    </tr>\n",
       "    <tr>\n",
       "      <th>1</th>\n",
       "      <td>5.92</td>\n",
       "      <td>0.019278</td>\n",
       "      <td>48.2692</td>\n",
       "      <td>13</td>\n",
       "    </tr>\n",
       "    <tr>\n",
       "      <th>2</th>\n",
       "      <td>17.50</td>\n",
       "      <td>0.016760</td>\n",
       "      <td>141.6180</td>\n",
       "      <td>23</td>\n",
       "    </tr>\n",
       "    <tr>\n",
       "      <th>3</th>\n",
       "      <td>19.20</td>\n",
       "      <td>0.000000</td>\n",
       "      <td>182.0950</td>\n",
       "      <td>24</td>\n",
       "    </tr>\n",
       "    <tr>\n",
       "      <th>4</th>\n",
       "      <td>8.93</td>\n",
       "      <td>0.000000</td>\n",
       "      <td>53.8614</td>\n",
       "      <td>35</td>\n",
       "    </tr>\n",
       "  </tbody>\n",
       "</table>\n",
       "</div>"
      ],
      "text/plain": [
       "   Item_Weight  Item_Visibility  Item_MRP  Outlet_Age\n",
       "0         9.30         0.016047  249.8092          23\n",
       "1         5.92         0.019278   48.2692          13\n",
       "2        17.50         0.016760  141.6180          23\n",
       "3        19.20         0.000000  182.0950          24\n",
       "4         8.93         0.000000   53.8614          35"
      ]
     },
     "execution_count": 36,
     "metadata": {},
     "output_type": "execute_result"
    }
   ],
   "source": [
    "numcols.head() # Variables are in different unit sizes - Scaling mut be done"
   ]
  },
  {
   "cell_type": "code",
   "execution_count": 37,
   "id": "fe65456b",
   "metadata": {},
   "outputs": [],
   "source": [
    "# Standard Scaler\n",
    "from sklearn.preprocessing import StandardScaler"
   ]
  },
  {
   "cell_type": "code",
   "execution_count": 38,
   "id": "60d5d08c",
   "metadata": {},
   "outputs": [],
   "source": [
    "scaler=StandardScaler()"
   ]
  },
  {
   "cell_type": "code",
   "execution_count": 39,
   "id": "414c15f2",
   "metadata": {},
   "outputs": [],
   "source": [
    "numcols_scaled=scaler.fit_transform(numcols)"
   ]
  },
  {
   "cell_type": "code",
   "execution_count": 40,
   "id": "6e3c713b",
   "metadata": {},
   "outputs": [],
   "source": [
    "numcols_scaled=pd.DataFrame(numcols_scaled,columns=numcols.columns)"
   ]
  },
  {
   "cell_type": "code",
   "execution_count": 41,
   "id": "815bf760",
   "metadata": {},
   "outputs": [
    {
     "data": {
      "text/html": [
       "<div>\n",
       "<style scoped>\n",
       "    .dataframe tbody tr th:only-of-type {\n",
       "        vertical-align: middle;\n",
       "    }\n",
       "\n",
       "    .dataframe tbody tr th {\n",
       "        vertical-align: top;\n",
       "    }\n",
       "\n",
       "    .dataframe thead th {\n",
       "        text-align: right;\n",
       "    }\n",
       "</style>\n",
       "<table border=\"1\" class=\"dataframe\">\n",
       "  <thead>\n",
       "    <tr style=\"text-align: right;\">\n",
       "      <th></th>\n",
       "      <th>Item_Weight</th>\n",
       "      <th>Item_Visibility</th>\n",
       "      <th>Item_MRP</th>\n",
       "      <th>Outlet_Age</th>\n",
       "    </tr>\n",
       "  </thead>\n",
       "  <tbody>\n",
       "    <tr>\n",
       "      <th>0</th>\n",
       "      <td>-0.824939</td>\n",
       "      <td>-0.969852</td>\n",
       "      <td>1.752511</td>\n",
       "      <td>-0.139681</td>\n",
       "    </tr>\n",
       "    <tr>\n",
       "      <th>1</th>\n",
       "      <td>-1.623224</td>\n",
       "      <td>-0.907063</td>\n",
       "      <td>-1.493696</td>\n",
       "      <td>-1.334228</td>\n",
       "    </tr>\n",
       "    <tr>\n",
       "      <th>2</th>\n",
       "      <td>1.111729</td>\n",
       "      <td>-0.956000</td>\n",
       "      <td>0.009874</td>\n",
       "      <td>-0.139681</td>\n",
       "    </tr>\n",
       "    <tr>\n",
       "      <th>3</th>\n",
       "      <td>1.513233</td>\n",
       "      <td>-1.281712</td>\n",
       "      <td>0.661838</td>\n",
       "      <td>-0.020226</td>\n",
       "    </tr>\n",
       "    <tr>\n",
       "      <th>4</th>\n",
       "      <td>-0.912325</td>\n",
       "      <td>-1.281712</td>\n",
       "      <td>-1.403623</td>\n",
       "      <td>1.293777</td>\n",
       "    </tr>\n",
       "  </tbody>\n",
       "</table>\n",
       "</div>"
      ],
      "text/plain": [
       "   Item_Weight  Item_Visibility  Item_MRP  Outlet_Age\n",
       "0    -0.824939        -0.969852  1.752511   -0.139681\n",
       "1    -1.623224        -0.907063 -1.493696   -1.334228\n",
       "2     1.111729        -0.956000  0.009874   -0.139681\n",
       "3     1.513233        -1.281712  0.661838   -0.020226\n",
       "4    -0.912325        -1.281712 -1.403623    1.293777"
      ]
     },
     "execution_count": 41,
     "metadata": {},
     "output_type": "execute_result"
    }
   ],
   "source": [
    "numcols_scaled.head()"
   ]
  },
  {
   "cell_type": "code",
   "execution_count": 42,
   "id": "4eefa625",
   "metadata": {},
   "outputs": [],
   "source": [
    "from sklearn.preprocessing import MinMaxScaler"
   ]
  },
  {
   "cell_type": "code",
   "execution_count": 43,
   "id": "bdb92e6f",
   "metadata": {},
   "outputs": [],
   "source": [
    "minmax=MinMaxScaler()"
   ]
  },
  {
   "cell_type": "code",
   "execution_count": 44,
   "id": "7a06c80d",
   "metadata": {},
   "outputs": [],
   "source": [
    "numcols_minmax=minmax.fit_transform(numcols)"
   ]
  },
  {
   "cell_type": "code",
   "execution_count": 45,
   "id": "5905f6b4",
   "metadata": {},
   "outputs": [],
   "source": [
    "numcols_minmax=pd.DataFrame(numcols_minmax,columns=numcols.columns)"
   ]
  },
  {
   "cell_type": "code",
   "execution_count": 46,
   "id": "991c2ef5",
   "metadata": {},
   "outputs": [
    {
     "data": {
      "text/html": [
       "<div>\n",
       "<style scoped>\n",
       "    .dataframe tbody tr th:only-of-type {\n",
       "        vertical-align: middle;\n",
       "    }\n",
       "\n",
       "    .dataframe tbody tr th {\n",
       "        vertical-align: top;\n",
       "    }\n",
       "\n",
       "    .dataframe thead th {\n",
       "        text-align: right;\n",
       "    }\n",
       "</style>\n",
       "<table border=\"1\" class=\"dataframe\">\n",
       "  <thead>\n",
       "    <tr style=\"text-align: right;\">\n",
       "      <th></th>\n",
       "      <th>Item_Weight</th>\n",
       "      <th>Item_Visibility</th>\n",
       "      <th>Item_MRP</th>\n",
       "      <th>Outlet_Age</th>\n",
       "    </tr>\n",
       "  </thead>\n",
       "  <tbody>\n",
       "    <tr>\n",
       "      <th>0</th>\n",
       "      <td>0.282525</td>\n",
       "      <td>0.048866</td>\n",
       "      <td>0.927507</td>\n",
       "      <td>0.416667</td>\n",
       "    </tr>\n",
       "    <tr>\n",
       "      <th>1</th>\n",
       "      <td>0.081274</td>\n",
       "      <td>0.058705</td>\n",
       "      <td>0.072068</td>\n",
       "      <td>0.000000</td>\n",
       "    </tr>\n",
       "    <tr>\n",
       "      <th>2</th>\n",
       "      <td>0.770765</td>\n",
       "      <td>0.051037</td>\n",
       "      <td>0.468288</td>\n",
       "      <td>0.416667</td>\n",
       "    </tr>\n",
       "    <tr>\n",
       "      <th>3</th>\n",
       "      <td>0.871986</td>\n",
       "      <td>0.000000</td>\n",
       "      <td>0.640093</td>\n",
       "      <td>0.458333</td>\n",
       "    </tr>\n",
       "    <tr>\n",
       "      <th>4</th>\n",
       "      <td>0.260494</td>\n",
       "      <td>0.000000</td>\n",
       "      <td>0.095805</td>\n",
       "      <td>0.916667</td>\n",
       "    </tr>\n",
       "  </tbody>\n",
       "</table>\n",
       "</div>"
      ],
      "text/plain": [
       "   Item_Weight  Item_Visibility  Item_MRP  Outlet_Age\n",
       "0     0.282525         0.048866  0.927507    0.416667\n",
       "1     0.081274         0.058705  0.072068    0.000000\n",
       "2     0.770765         0.051037  0.468288    0.416667\n",
       "3     0.871986         0.000000  0.640093    0.458333\n",
       "4     0.260494         0.000000  0.095805    0.916667"
      ]
     },
     "execution_count": 46,
     "metadata": {},
     "output_type": "execute_result"
    }
   ],
   "source": [
    "numcols_minmax.head()"
   ]
  },
  {
   "cell_type": "code",
   "execution_count": 47,
   "id": "f43e0c0d",
   "metadata": {},
   "outputs": [],
   "source": [
    "from sklearn.preprocessing import RobustScaler"
   ]
  },
  {
   "cell_type": "code",
   "execution_count": 48,
   "id": "59e36624",
   "metadata": {},
   "outputs": [],
   "source": [
    "robust=RobustScaler()"
   ]
  },
  {
   "cell_type": "code",
   "execution_count": 49,
   "id": "2efe5e90",
   "metadata": {},
   "outputs": [],
   "source": [
    "numcols_robust=robust.fit_transform(numcols)"
   ]
  },
  {
   "cell_type": "code",
   "execution_count": 50,
   "id": "de075e55",
   "metadata": {},
   "outputs": [],
   "source": [
    "numcols_robust=pd.DataFrame(numcols_robust,columns=numcols.columns)"
   ]
  },
  {
   "cell_type": "code",
   "execution_count": 51,
   "id": "e4fafb65",
   "metadata": {},
   "outputs": [
    {
     "data": {
      "text/html": [
       "<div>\n",
       "<style scoped>\n",
       "    .dataframe tbody tr th:only-of-type {\n",
       "        vertical-align: middle;\n",
       "    }\n",
       "\n",
       "    .dataframe tbody tr th {\n",
       "        vertical-align: top;\n",
       "    }\n",
       "\n",
       "    .dataframe thead th {\n",
       "        text-align: right;\n",
       "    }\n",
       "</style>\n",
       "<table border=\"1\" class=\"dataframe\">\n",
       "  <thead>\n",
       "    <tr style=\"text-align: right;\">\n",
       "      <th></th>\n",
       "      <th>Item_Weight</th>\n",
       "      <th>Item_Visibility</th>\n",
       "      <th>Item_MRP</th>\n",
       "      <th>Outlet_Age</th>\n",
       "    </tr>\n",
       "  </thead>\n",
       "  <tbody>\n",
       "    <tr>\n",
       "      <th>0</th>\n",
       "      <td>-0.521322</td>\n",
       "      <td>-0.566751</td>\n",
       "      <td>1.171145</td>\n",
       "      <td>0.000000</td>\n",
       "    </tr>\n",
       "    <tr>\n",
       "      <th>1</th>\n",
       "      <td>-1.025799</td>\n",
       "      <td>-0.518530</td>\n",
       "      <td>-1.023237</td>\n",
       "      <td>-0.588235</td>\n",
       "    </tr>\n",
       "    <tr>\n",
       "      <th>2</th>\n",
       "      <td>0.702559</td>\n",
       "      <td>-0.556113</td>\n",
       "      <td>-0.006849</td>\n",
       "      <td>0.000000</td>\n",
       "    </tr>\n",
       "    <tr>\n",
       "      <th>3</th>\n",
       "      <td>0.956290</td>\n",
       "      <td>-0.806258</td>\n",
       "      <td>0.433868</td>\n",
       "      <td>0.058824</td>\n",
       "    </tr>\n",
       "    <tr>\n",
       "      <th>4</th>\n",
       "      <td>-0.576545</td>\n",
       "      <td>-0.806258</td>\n",
       "      <td>-0.962349</td>\n",
       "      <td>0.705882</td>\n",
       "    </tr>\n",
       "  </tbody>\n",
       "</table>\n",
       "</div>"
      ],
      "text/plain": [
       "   Item_Weight  Item_Visibility  Item_MRP  Outlet_Age\n",
       "0    -0.521322        -0.566751  1.171145    0.000000\n",
       "1    -1.025799        -0.518530 -1.023237   -0.588235\n",
       "2     0.702559        -0.556113 -0.006849    0.000000\n",
       "3     0.956290        -0.806258  0.433868    0.058824\n",
       "4    -0.576545        -0.806258 -0.962349    0.705882"
      ]
     },
     "execution_count": 51,
     "metadata": {},
     "output_type": "execute_result"
    }
   ],
   "source": [
    "numcols_robust.head()"
   ]
  },
  {
   "cell_type": "code",
   "execution_count": 52,
   "id": "8a80c5b4",
   "metadata": {},
   "outputs": [],
   "source": [
    "import seaborn as sns"
   ]
  },
  {
   "cell_type": "code",
   "execution_count": 53,
   "id": "480804ff",
   "metadata": {},
   "outputs": [
    {
     "data": {
      "text/plain": [
       "<Axes: >"
      ]
     },
     "execution_count": 53,
     "metadata": {},
     "output_type": "execute_result"
    },
    {
     "data": {
      "image/png": "[encoded data removed]",
      "text/plain": [
       "<Figure size 640x480 with 1 Axes>"
      ]
     },
     "metadata": {},
     "output_type": "display_data"
    }
   ],
   "source": [
    "sns.boxplot(numcols,orient=\"h\")"
   ]
  },
  {
   "cell_type": "code",
   "execution_count": 54,
   "id": "a62571f7",
   "metadata": {},
   "outputs": [],
   "source": [
    "numcols['Item_Outlet_Sales']=objcols.Item_Outlet_Sales"
   ]
  },
  {
   "cell_type": "code",
   "execution_count": 55,
   "id": "9922708e",
   "metadata": {},
   "outputs": [],
   "source": [
    "objcols=objcols.drop(['Item_Identifier','Item_Outlet_Sales'],axis=1)"
   ]
  },
  {
   "cell_type": "code",
   "execution_count": 56,
   "id": "c331e660",
   "metadata": {},
   "outputs": [],
   "source": [
    "objcols_dummy=pd.get_dummies(objcols)"
   ]
  },
  {
   "cell_type": "code",
   "execution_count": 57,
   "id": "5c676029",
   "metadata": {},
   "outputs": [],
   "source": [
    "combinedf_clean=pd.concat([numcols,objcols_dummy],axis=1)"
   ]
  },
  {
   "cell_type": "code",
   "execution_count": 58,
   "id": "66dfd630",
   "metadata": {},
   "outputs": [],
   "source": [
    "salestrain_df=combinedf_clean[combinedf_clean.Item_Outlet_Sales!='test']\n",
    "salestest_df=combinedf_clean[combinedf_clean.Item_Outlet_Sales=='test']"
   ]
  },
  {
   "cell_type": "code",
   "execution_count": 59,
   "id": "d76f6c4b",
   "metadata": {},
   "outputs": [],
   "source": [
    "salestest_df=salestest_df.drop('Item_Outlet_Sales',axis=1)"
   ]
  },
  {
   "cell_type": "code",
   "execution_count": 60,
   "id": "8770f8f8",
   "metadata": {},
   "outputs": [],
   "source": [
    "y=salestrain_df.Item_Outlet_Sales\n",
    "X=salestrain_df.drop('Item_Outlet_Sales',axis=1)"
   ]
  },
  {
   "cell_type": "code",
   "execution_count": 61,
   "id": "94a0c3be",
   "metadata": {},
   "outputs": [],
   "source": [
    "y=y.astype('float64')"
   ]
  },
  {
   "cell_type": "code",
   "execution_count": 62,
   "id": "5a2cedee",
   "metadata": {},
   "outputs": [],
   "source": [
    "from sklearn.linear_model import LinearRegression"
   ]
  },
  {
   "cell_type": "code",
   "execution_count": 63,
   "id": "ecad7cd7",
   "metadata": {},
   "outputs": [],
   "source": [
    "reg=LinearRegression()"
   ]
  },
  {
   "cell_type": "code",
   "execution_count": 64,
   "id": "a73bfae1",
   "metadata": {},
   "outputs": [],
   "source": [
    "regmodel=reg.fit(X,y)"
   ]
  },
  {
   "cell_type": "code",
   "execution_count": 65,
   "id": "e38cf7df",
   "metadata": {},
   "outputs": [
    {
     "data": {
      "text/plain": [
       "0.5637737001510252"
      ]
     },
     "execution_count": 65,
     "metadata": {},
     "output_type": "execute_result"
    }
   ],
   "source": [
    "regmodel.score(X,y)"
   ]
  },
  {
   "cell_type": "code",
   "execution_count": 66,
   "id": "e3ce3ce4",
   "metadata": {},
   "outputs": [],
   "source": [
    "regtestpredict = regmodel.predict(salestest_df)"
   ]
  },
  {
   "cell_type": "code",
   "execution_count": 67,
   "id": "eb009da0",
   "metadata": {},
   "outputs": [],
   "source": [
    "regtestpredict = regmodel.predict(salestest_df)"
   ]
  },
  {
   "cell_type": "code",
   "execution_count": 68,
   "id": "e48a246f",
   "metadata": {},
   "outputs": [],
   "source": [
    "# Replace negative predictions with zero\n",
    "regtestpredict = np.where(regtestpredict < 0, 0, regtestpredict)"
   ]
  },
  {
   "cell_type": "code",
   "execution_count": 69,
   "id": "af498262",
   "metadata": {},
   "outputs": [],
   "source": [
    "reg_output = pd.DataFrame({\n",
    "    'Item_Identifier': salestest['Item_Identifier'],\n",
    "    'Outlet_Identifier': salestest['Outlet_Identifier'],\n",
    "    'Item_Outlet_Sales': regtestpredict\n",
    "})"
   ]
  },
  {
   "cell_type": "code",
   "execution_count": 70,
   "id": "0a52dc1c",
   "metadata": {},
   "outputs": [],
   "source": [
    "reg_output.to_csv(\"reg_output.csv\", index=False)"
   ]
  },
  {
   "cell_type": "code",
   "execution_count": 71,
   "id": "4477beda",
   "metadata": {},
   "outputs": [],
   "source": [
    "from sklearn.metrics import r2_score"
   ]
  },
  {
   "cell_type": "code",
   "execution_count": 72,
   "id": "30871de5",
   "metadata": {},
   "outputs": [
    {
     "name": "stdout",
     "output_type": "stream",
     "text": [
      "R-squared score for Linear Regression: 0.5637737001510252\n"
     ]
    }
   ],
   "source": [
    "# For Linear Regression Model\n",
    "reg_pred = regmodel.predict(X)\n",
    "r2_linear = r2_score(y, reg_pred)\n",
    "print(\"R-squared score for Linear Regression:\", r2_linear)"
   ]
  },
  {
   "cell_type": "code",
   "execution_count": 73,
   "id": "17785636",
   "metadata": {},
   "outputs": [],
   "source": [
    "from sklearn.tree import DecisionTreeRegressor"
   ]
  },
  {
   "cell_type": "code",
   "execution_count": 74,
   "id": "bdf1e3a9",
   "metadata": {},
   "outputs": [],
   "source": [
    "tree=DecisionTreeRegressor(max_depth=8)"
   ]
  },
  {
   "cell_type": "code",
   "execution_count": 75,
   "id": "6f3930e6",
   "metadata": {},
   "outputs": [],
   "source": [
    "treemodel=tree.fit(X,y)"
   ]
  },
  {
   "cell_type": "code",
   "execution_count": 76,
   "id": "9d03c888",
   "metadata": {},
   "outputs": [
    {
     "data": {
      "text/plain": [
       "0.6358506446270598"
      ]
     },
     "execution_count": 76,
     "metadata": {},
     "output_type": "execute_result"
    }
   ],
   "source": [
    "treemodel.score(X,y)"
   ]
  },
  {
   "cell_type": "code",
   "execution_count": 77,
   "id": "60c9ad08",
   "metadata": {},
   "outputs": [],
   "source": [
    "from sklearn.model_selection import cross_val_score"
   ]
  },
  {
   "cell_type": "code",
   "execution_count": 78,
   "id": "182eb358",
   "metadata": {},
   "outputs": [
    {
     "data": {
      "text/plain": [
       "array([0.5740877 , 0.55435008, 0.54234388, 0.56956931, 0.58864938])"
      ]
     },
     "execution_count": 78,
     "metadata": {},
     "output_type": "execute_result"
    }
   ],
   "source": [
    "cross_val_score(tree,X,y)"
   ]
  },
  {
   "cell_type": "code",
   "execution_count": 79,
   "id": "28a52a45",
   "metadata": {},
   "outputs": [],
   "source": [
    "treetestpred=treemodel.predict(salestest_df)"
   ]
  },
  {
   "cell_type": "code",
   "execution_count": 80,
   "id": "24f898de",
   "metadata": {},
   "outputs": [],
   "source": [
    "treetestpred = treemodel.predict(salestest_df)"
   ]
  },
  {
   "cell_type": "code",
   "execution_count": 81,
   "id": "b84da0e8",
   "metadata": {},
   "outputs": [],
   "source": [
    "treetestpred = np.where(treetestpred < 0, 0, treetestpred)"
   ]
  },
  {
   "cell_type": "code",
   "execution_count": 82,
   "id": "010920f4",
   "metadata": {},
   "outputs": [],
   "source": [
    "tree_output = pd.DataFrame({\n",
    "    'Item_Identifier': salestest['Item_Identifier'],\n",
    "    'Outlet_Identifier': salestest['Outlet_Identifier'],\n",
    "    'Item_Outlet_Sales': treetestpred\n",
    "})"
   ]
  },
  {
   "cell_type": "code",
   "execution_count": 83,
   "id": "43f6a062",
   "metadata": {},
   "outputs": [],
   "source": [
    "tree_output.to_csv(\"tree_output.csv\", index=False)"
   ]
  },
  {
   "cell_type": "code",
   "execution_count": 84,
   "id": "8ef6bb68",
   "metadata": {},
   "outputs": [],
   "source": [
    "pd.DataFrame(treetestpred).to_csv(\"tree.csv\")"
   ]
  },
  {
   "cell_type": "code",
   "execution_count": 85,
   "id": "799eaa92",
   "metadata": {},
   "outputs": [],
   "source": [
    "from sklearn.ensemble import RandomForestRegressor"
   ]
  },
  {
   "cell_type": "code",
   "execution_count": 86,
   "id": "76bc0893",
   "metadata": {},
   "outputs": [],
   "source": [
    "RF=RandomForestRegressor(n_estimators=5000,max_depth=8)"
   ]
  },
  {
   "cell_type": "code",
   "execution_count": 87,
   "id": "889ceafd",
   "metadata": {},
   "outputs": [],
   "source": [
    "RFmodel=RF.fit(X,y)"
   ]
  },
  {
   "cell_type": "code",
   "execution_count": 88,
   "id": "150de1d0",
   "metadata": {},
   "outputs": [
    {
     "data": {
      "text/plain": [
       "0.6559014595857467"
      ]
     },
     "execution_count": 88,
     "metadata": {},
     "output_type": "execute_result"
    }
   ],
   "source": [
    "RFmodel.score(X,y)"
   ]
  },
  {
   "cell_type": "code",
   "execution_count": 89,
   "id": "6558bac0",
   "metadata": {},
   "outputs": [],
   "source": [
    "RFtestpredict=RFmodel.predict(salestest_df)"
   ]
  },
  {
   "cell_type": "code",
   "execution_count": 90,
   "id": "7b62df0d",
   "metadata": {},
   "outputs": [],
   "source": [
    "RFtestpredict = RFmodel.predict(salestest_df)"
   ]
  },
  {
   "cell_type": "code",
   "execution_count": 91,
   "id": "7b0a87d7",
   "metadata": {},
   "outputs": [],
   "source": [
    "# Replace negative predictions with zero\n",
    "RFtestpredict = np.where(RFtestpredict < 0, 0, RFtestpredict)"
   ]
  },
  {
   "cell_type": "code",
   "execution_count": 92,
   "id": "33e1c745",
   "metadata": {},
   "outputs": [],
   "source": [
    "RF_output = pd.DataFrame({\n",
    "    'Item_Identifier': salestest['Item_Identifier'],\n",
    "    'Outlet_Identifier': salestest['Outlet_Identifier'],\n",
    "    'Item_Outlet_Sales': RFtestpredict\n",
    "})"
   ]
  },
  {
   "cell_type": "code",
   "execution_count": 93,
   "id": "b4024ff2",
   "metadata": {},
   "outputs": [],
   "source": [
    "RF_output.to_csv(\"RF_output.csv\", index=False)"
   ]
  },
  {
   "cell_type": "code",
   "execution_count": 94,
   "id": "906e0f92",
   "metadata": {},
   "outputs": [
    {
     "name": "stdout",
     "output_type": "stream",
     "text": [
      "R-squared score for Random Forest Regressor: 0.6559014595857467\n"
     ]
    }
   ],
   "source": [
    "RF_pred = RFmodel.predict(X)\n",
    "r2_RF = r2_score(y, RF_pred)\n",
    "print(\"R-squared score for Random Forest Regressor:\", r2_RF)"
   ]
  },
  {
   "cell_type": "code",
   "execution_count": 95,
   "id": "70353c9b",
   "metadata": {},
   "outputs": [
    {
     "name": "stdout",
     "output_type": "stream",
     "text": [
      "R-squared score for Decision Tree Regressor: 0.6358506446270598\n"
     ]
    }
   ],
   "source": [
    "tree_pred = treemodel.predict(X)\n",
    "r2_tree = r2_score(y, tree_pred)\n",
    "print(\"R-squared score for Decision Tree Regressor:\", r2_tree)"
   ]
  },
  {
   "cell_type": "code",
   "execution_count": 96,
   "id": "fd6c7174",
   "metadata": {},
   "outputs": [],
   "source": [
    "from sklearn.svm import SVR\n",
    "svr = SVR(kernel='rbf')  \n",
    "svr.fit(X, y)\n",
    "predictions = svr.predict(salestest_df)\n"
   ]
  },
  {
   "cell_type": "code",
   "execution_count": 97,
   "id": "e331f58a",
   "metadata": {},
   "outputs": [],
   "source": [
    "svr_predictions = np.where(predictions < 0, 0, predictions)"
   ]
  },
  {
   "cell_type": "code",
   "execution_count": 98,
   "id": "c27784c6",
   "metadata": {},
   "outputs": [],
   "source": [
    "svr_output = pd.DataFrame({\n",
    "    'Item_Identifier': salestest['Item_Identifier'],\n",
    "    'Outlet_Identifier': salestest['Outlet_Identifier'],\n",
    "    'Item_Outlet_Sales': svr_predictions\n",
    "})"
   ]
  },
  {
   "cell_type": "code",
   "execution_count": 99,
   "id": "46312f2f",
   "metadata": {},
   "outputs": [],
   "source": [
    "svr_output.to_csv(\"svr_output.csv\", index=False)"
   ]
  },
  {
   "cell_type": "code",
   "execution_count": 100,
   "id": "76a495d7",
   "metadata": {},
   "outputs": [],
   "source": [
    "from sklearn.neighbors import KNeighborsRegressor\n",
    "knn = KNeighborsRegressor(n_neighbors=5)  \n",
    "knn.fit(X, y)\n",
    "knn_predictions = knn.predict(salestest_df)\n"
   ]
  },
  {
   "cell_type": "code",
   "execution_count": 101,
   "id": "aecdf08e",
   "metadata": {},
   "outputs": [],
   "source": [
    "knn_predictions = np.where(predictions < 0, 0, knn_predictions)"
   ]
  },
  {
   "cell_type": "code",
   "execution_count": 102,
   "id": "d5749991",
   "metadata": {},
   "outputs": [],
   "source": [
    "knn_output = pd.DataFrame({\n",
    "    'Item_Identifier': salestest['Item_Identifier'],\n",
    "    'Outlet_Identifier': salestest['Outlet_Identifier'],\n",
    "    'Item_Outlet_Sales': knn_predictions\n",
    "})"
   ]
  },
  {
   "cell_type": "code",
   "execution_count": 103,
   "id": "0f3e08b1",
   "metadata": {},
   "outputs": [],
   "source": [
    "knn_output.to_csv(\"knn_output.csv\", index=False)"
   ]
  },
  {
   "cell_type": "code",
   "execution_count": 104,
   "id": "53c0bac2",
   "metadata": {},
   "outputs": [],
   "source": [
    "from sklearn.ensemble import GradientBoostingRegressor\n",
    "gbr = GradientBoostingRegressor(n_estimators=100, learning_rate=0.1, max_depth=3)\n",
    "gbr.fit(X, y)\n",
    "gbr_predictions = gbr.predict(salestest_df)\n"
   ]
  },
  {
   "cell_type": "code",
   "execution_count": 105,
   "id": "ba8a23fc",
   "metadata": {},
   "outputs": [],
   "source": [
    "gbr_predictions = np.where(gbr_predictions < 0, 0, gbr_predictions)"
   ]
  },
  {
   "cell_type": "code",
   "execution_count": 106,
   "id": "b3dc59a2",
   "metadata": {},
   "outputs": [],
   "source": [
    "gbr_output = pd.DataFrame({\n",
    "    'Item_Identifier': salestest['Item_Identifier'],\n",
    "    'Outlet_Identifier': salestest['Outlet_Identifier'],\n",
    "    'Item_Outlet_Sales': gbr_predictions\n",
    "})"
   ]
  },
  {
   "cell_type": "code",
   "execution_count": 107,
   "id": "3e1a5f30",
   "metadata": {},
   "outputs": [],
   "source": [
    "gbr_output.to_csv(\"gbr_output.csv\", index=False)"
   ]
  },
  {
   "cell_type": "code",
   "execution_count": 108,
   "id": "9fb442f0",
   "metadata": {},
   "outputs": [],
   "source": [
    "import xgboost as xgb"
   ]
  },
  {
   "cell_type": "code",
   "execution_count": 109,
   "id": "19fe6f9a",
   "metadata": {},
   "outputs": [],
   "source": [
    "XGB = xgb.XGBRegressor(n_estimators=100, learning_rate=0.1, max_depth=3)\n",
    "XGB.fit(X, y)\n",
    "XGB_predictions = XGB.predict(salestest_df)"
   ]
  },
  {
   "cell_type": "code",
   "execution_count": 110,
   "id": "6dc29ebe",
   "metadata": {},
   "outputs": [],
   "source": [
    "XGB_predictions = np.where(XGB_predictions < 0, 0, XGB_predictions)"
   ]
  },
  {
   "cell_type": "code",
   "execution_count": 111,
   "id": "253fcfa6",
   "metadata": {},
   "outputs": [],
   "source": [
    "gbr_output = pd.DataFrame({\n",
    "    'Item_Identifier': salestest['Item_Identifier'],\n",
    "    'Outlet_Identifier': salestest['Outlet_Identifier'],\n",
    "    'Item_Outlet_Sales': XGB_predictions\n",
    "})"
   ]
  },
  {
   "cell_type": "code",
   "execution_count": 112,
   "id": "2ff46988",
   "metadata": {},
   "outputs": [],
   "source": [
    "gbr_output.to_csv(\"XGB_predictions.csv\", index=False)"
   ]
  },
  {
   "cell_type": "code",
   "execution_count": 113,
   "id": "11513925",
   "metadata": {},
   "outputs": [],
   "source": [
    "import lightgbm as lgb"
   ]
  },
  {
   "cell_type": "code",
   "execution_count": 114,
   "id": "1e7ca443",
   "metadata": {},
   "outputs": [
    {
     "name": "stdout",
     "output_type": "stream",
     "text": [
      "[LightGBM] [Warning] Found whitespace in feature_names, replace with underlines\n",
      "[LightGBM] [Warning] Auto-choosing row-wise multi-threading, the overhead of testing was 0.001644 seconds.\n",
      "You can set `force_row_wise=true` to remove the overhead.\n",
      "And if memory is not enough, you can set `force_col_wise=true`.\n",
      "[LightGBM] [Info] Total Bins 833\n",
      "[LightGBM] [Info] Number of data points in the train set: 8523, number of used features: 46\n",
      "[LightGBM] [Info] Start training from score 2181.288915\n",
      "[LightGBM] [Warning] No further splits with positive gain, best gain: -inf\n",
      "[LightGBM] [Warning] No further splits with positive gain, best gain: -inf\n",
      "[LightGBM] [Warning] No further splits with positive gain, best gain: -inf\n",
      "[LightGBM] [Warning] No further splits with positive gain, best gain: -inf\n",
      "[LightGBM] [Warning] No further splits with positive gain, best gain: -inf\n",
      "[LightGBM] [Warning] No further splits with positive gain, best gain: -inf\n",
      "[LightGBM] [Warning] No further splits with positive gain, best gain: -inf\n",
      "[LightGBM] [Warning] No further splits with positive gain, best gain: -inf\n",
      "[LightGBM] [Warning] No further splits with positive gain, best gain: -inf\n",
      "[LightGBM] [Warning] No further splits with positive gain, best gain: -inf\n",
      "[LightGBM] [Warning] No further splits with positive gain, best gain: -inf\n",
      "[LightGBM] [Warning] No further splits with positive gain, best gain: -inf\n",
      "[LightGBM] [Warning] No further splits with positive gain, best gain: -inf\n",
      "[LightGBM] [Warning] No further splits with positive gain, best gain: -inf\n",
      "[LightGBM] [Warning] No further splits with positive gain, best gain: -inf\n",
      "[LightGBM] [Warning] No further splits with positive gain, best gain: -inf\n",
      "[LightGBM] [Warning] No further splits with positive gain, best gain: -inf\n",
      "[LightGBM] [Warning] No further splits with positive gain, best gain: -inf\n",
      "[LightGBM] [Warning] No further splits with positive gain, best gain: -inf\n",
      "[LightGBM] [Warning] No further splits with positive gain, best gain: -inf\n",
      "[LightGBM] [Warning] No further splits with positive gain, best gain: -inf\n",
      "[LightGBM] [Warning] No further splits with positive gain, best gain: -inf\n",
      "[LightGBM] [Warning] No further splits with positive gain, best gain: -inf\n",
      "[LightGBM] [Warning] No further splits with positive gain, best gain: -inf\n",
      "[LightGBM] [Warning] No further splits with positive gain, best gain: -inf\n",
      "[LightGBM] [Warning] No further splits with positive gain, best gain: -inf\n"
     ]
    }
   ],
   "source": [
    "LGB = lgb.LGBMRegressor(n_estimators=100, learning_rate=0.1, max_depth=3)\n",
    "LGB.fit(X, y)\n",
    "LGB_predictions = LGB.predict(salestest_df)"
   ]
  },
  {
   "cell_type": "code",
   "execution_count": 115,
   "id": "bb496b61",
   "metadata": {},
   "outputs": [],
   "source": [
    "LGB_predictions = np.where(LGB_predictions < 0, 0, LGB_predictions)"
   ]
  },
  {
   "cell_type": "code",
   "execution_count": 117,
   "id": "45850cce",
   "metadata": {},
   "outputs": [],
   "source": [
    "gbr_output = pd.DataFrame({\n",
    "    'Item_Identifier': salestest['Item_Identifier'],\n",
    "    'Outlet_Identifier': salestest['Outlet_Identifier'],\n",
    "    'Item_Outlet_Sales': LGB_predictions\n",
    "})"
   ]
  },
  {
   "cell_type": "code",
   "execution_count": 118,
   "id": "5f88bda5",
   "metadata": {},
   "outputs": [],
   "source": [
    "gbr_output.to_csv(\"LGB_predictions.csv\", index=False)"
   ]
  },
  {
   "cell_type": "code",
   "execution_count": 119,
   "id": "30b0a933",
   "metadata": {},
   "outputs": [
    {
     "name": "stdout",
     "output_type": "stream",
     "text": [
      "0:\tlearn: 1623.0323663\ttotal: 155ms\tremaining: 15.3s\n",
      "1:\tlearn: 1552.3963520\ttotal: 156ms\tremaining: 7.65s\n",
      "2:\tlearn: 1491.0717772\ttotal: 157ms\tremaining: 5.09s\n",
      "3:\tlearn: 1437.8557161\ttotal: 159ms\tremaining: 3.81s\n",
      "4:\tlearn: 1391.4350251\ttotal: 160ms\tremaining: 3.04s\n",
      "5:\tlearn: 1352.5442097\ttotal: 162ms\tremaining: 2.53s\n",
      "6:\tlearn: 1315.0319306\ttotal: 163ms\tremaining: 2.17s\n",
      "7:\tlearn: 1285.3407799\ttotal: 165ms\tremaining: 1.9s\n",
      "8:\tlearn: 1260.0482402\ttotal: 166ms\tremaining: 1.68s\n",
      "9:\tlearn: 1237.7555740\ttotal: 168ms\tremaining: 1.51s\n",
      "10:\tlearn: 1217.4521572\ttotal: 170ms\tremaining: 1.37s\n",
      "11:\tlearn: 1197.9398441\ttotal: 171ms\tremaining: 1.25s\n",
      "12:\tlearn: 1180.6532545\ttotal: 172ms\tremaining: 1.15s\n",
      "13:\tlearn: 1167.7049822\ttotal: 174ms\tremaining: 1.07s\n",
      "14:\tlearn: 1156.0734996\ttotal: 175ms\tremaining: 992ms\n",
      "15:\tlearn: 1145.6509238\ttotal: 177ms\tremaining: 927ms\n",
      "16:\tlearn: 1137.0810906\ttotal: 178ms\tremaining: 870ms\n",
      "17:\tlearn: 1129.8187362\ttotal: 180ms\tremaining: 819ms\n",
      "18:\tlearn: 1123.0373498\ttotal: 181ms\tremaining: 773ms\n",
      "19:\tlearn: 1116.5351652\ttotal: 183ms\tremaining: 731ms\n",
      "20:\tlearn: 1110.6155469\ttotal: 184ms\tremaining: 693ms\n",
      "21:\tlearn: 1106.1383623\ttotal: 186ms\tremaining: 658ms\n",
      "22:\tlearn: 1102.3615723\ttotal: 187ms\tremaining: 626ms\n",
      "23:\tlearn: 1098.8128055\ttotal: 188ms\tremaining: 596ms\n",
      "24:\tlearn: 1095.3755365\ttotal: 190ms\tremaining: 569ms\n",
      "25:\tlearn: 1092.9100072\ttotal: 191ms\tremaining: 544ms\n",
      "26:\tlearn: 1090.1127235\ttotal: 193ms\tremaining: 521ms\n",
      "27:\tlearn: 1088.1731679\ttotal: 194ms\tremaining: 499ms\n",
      "28:\tlearn: 1086.5596517\ttotal: 196ms\tremaining: 479ms\n",
      "29:\tlearn: 1085.4501027\ttotal: 197ms\tremaining: 460ms\n",
      "30:\tlearn: 1083.8472312\ttotal: 199ms\tremaining: 442ms\n",
      "31:\tlearn: 1082.4819686\ttotal: 200ms\tremaining: 425ms\n",
      "32:\tlearn: 1081.2262888\ttotal: 201ms\tremaining: 409ms\n",
      "33:\tlearn: 1080.2487032\ttotal: 203ms\tremaining: 394ms\n",
      "34:\tlearn: 1079.5412832\ttotal: 204ms\tremaining: 380ms\n",
      "35:\tlearn: 1078.3944945\ttotal: 206ms\tremaining: 366ms\n",
      "36:\tlearn: 1077.5287530\ttotal: 207ms\tremaining: 353ms\n",
      "37:\tlearn: 1076.7056062\ttotal: 209ms\tremaining: 340ms\n",
      "38:\tlearn: 1076.1279409\ttotal: 210ms\tremaining: 328ms\n",
      "39:\tlearn: 1075.3633944\ttotal: 211ms\tremaining: 317ms\n",
      "40:\tlearn: 1075.0531076\ttotal: 213ms\tremaining: 307ms\n",
      "41:\tlearn: 1074.5632634\ttotal: 215ms\tremaining: 297ms\n",
      "42:\tlearn: 1074.1770052\ttotal: 216ms\tremaining: 287ms\n",
      "43:\tlearn: 1073.5148179\ttotal: 218ms\tremaining: 277ms\n",
      "44:\tlearn: 1073.1922167\ttotal: 219ms\tremaining: 267ms\n",
      "45:\tlearn: 1072.7859034\ttotal: 220ms\tremaining: 258ms\n",
      "46:\tlearn: 1072.4634880\ttotal: 221ms\tremaining: 250ms\n",
      "47:\tlearn: 1072.1583249\ttotal: 223ms\tremaining: 241ms\n",
      "48:\tlearn: 1071.6834042\ttotal: 224ms\tremaining: 234ms\n",
      "49:\tlearn: 1071.3341150\ttotal: 226ms\tremaining: 226ms\n",
      "50:\tlearn: 1070.8256115\ttotal: 227ms\tremaining: 218ms\n",
      "51:\tlearn: 1070.5510907\ttotal: 229ms\tremaining: 211ms\n",
      "52:\tlearn: 1070.3638800\ttotal: 230ms\tremaining: 204ms\n",
      "53:\tlearn: 1070.0567777\ttotal: 231ms\tremaining: 197ms\n",
      "54:\tlearn: 1069.6271533\ttotal: 233ms\tremaining: 190ms\n",
      "55:\tlearn: 1069.4932650\ttotal: 234ms\tremaining: 184ms\n",
      "56:\tlearn: 1069.3074421\ttotal: 235ms\tremaining: 177ms\n",
      "57:\tlearn: 1069.1032633\ttotal: 237ms\tremaining: 171ms\n",
      "58:\tlearn: 1068.8842154\ttotal: 238ms\tremaining: 165ms\n",
      "59:\tlearn: 1068.8031067\ttotal: 239ms\tremaining: 159ms\n",
      "60:\tlearn: 1068.4217474\ttotal: 240ms\tremaining: 154ms\n",
      "61:\tlearn: 1068.2053273\ttotal: 242ms\tremaining: 148ms\n",
      "62:\tlearn: 1068.0061194\ttotal: 243ms\tremaining: 143ms\n",
      "63:\tlearn: 1067.7787262\ttotal: 244ms\tremaining: 137ms\n",
      "64:\tlearn: 1067.6416351\ttotal: 245ms\tremaining: 132ms\n",
      "65:\tlearn: 1067.4526715\ttotal: 247ms\tremaining: 127ms\n",
      "66:\tlearn: 1067.2405332\ttotal: 248ms\tremaining: 122ms\n",
      "67:\tlearn: 1067.1388340\ttotal: 249ms\tremaining: 117ms\n",
      "68:\tlearn: 1067.0223282\ttotal: 250ms\tremaining: 112ms\n",
      "69:\tlearn: 1066.8996563\ttotal: 251ms\tremaining: 108ms\n",
      "70:\tlearn: 1066.8407423\ttotal: 252ms\tremaining: 103ms\n",
      "71:\tlearn: 1066.6741527\ttotal: 254ms\tremaining: 98.6ms\n",
      "72:\tlearn: 1066.5681880\ttotal: 255ms\tremaining: 94.2ms\n",
      "73:\tlearn: 1066.4896255\ttotal: 256ms\tremaining: 90ms\n",
      "74:\tlearn: 1066.2293121\ttotal: 257ms\tremaining: 85.7ms\n",
      "75:\tlearn: 1066.0857228\ttotal: 258ms\tremaining: 81.6ms\n",
      "76:\tlearn: 1065.8703514\ttotal: 259ms\tremaining: 77.5ms\n",
      "77:\tlearn: 1065.6857477\ttotal: 261ms\tremaining: 73.5ms\n",
      "78:\tlearn: 1065.5330765\ttotal: 262ms\tremaining: 69.6ms\n",
      "79:\tlearn: 1065.4260370\ttotal: 263ms\tremaining: 65.8ms\n",
      "80:\tlearn: 1065.3097056\ttotal: 264ms\tremaining: 62ms\n",
      "81:\tlearn: 1064.9807933\ttotal: 266ms\tremaining: 58.3ms\n",
      "82:\tlearn: 1064.8402651\ttotal: 267ms\tremaining: 54.6ms\n",
      "83:\tlearn: 1064.7053499\ttotal: 268ms\tremaining: 51ms\n",
      "84:\tlearn: 1064.5147075\ttotal: 269ms\tremaining: 47.5ms\n",
      "85:\tlearn: 1064.3834824\ttotal: 271ms\tremaining: 44.1ms\n",
      "86:\tlearn: 1064.1003799\ttotal: 272ms\tremaining: 40.7ms\n",
      "87:\tlearn: 1063.9704677\ttotal: 273ms\tremaining: 37.3ms\n",
      "88:\tlearn: 1063.7692211\ttotal: 275ms\tremaining: 33.9ms\n",
      "89:\tlearn: 1063.6686684\ttotal: 276ms\tremaining: 30.6ms\n",
      "90:\tlearn: 1063.4683401\ttotal: 277ms\tremaining: 27.4ms\n",
      "91:\tlearn: 1063.2981419\ttotal: 278ms\tremaining: 24.2ms\n",
      "92:\tlearn: 1063.1499946\ttotal: 279ms\tremaining: 21ms\n",
      "93:\tlearn: 1062.8732645\ttotal: 281ms\tremaining: 17.9ms\n",
      "94:\tlearn: 1062.7630487\ttotal: 282ms\tremaining: 14.8ms\n",
      "95:\tlearn: 1062.5244746\ttotal: 283ms\tremaining: 11.8ms\n",
      "96:\tlearn: 1062.3055262\ttotal: 285ms\tremaining: 8.8ms\n",
      "97:\tlearn: 1062.0102425\ttotal: 286ms\tremaining: 5.83ms\n",
      "98:\tlearn: 1061.8105801\ttotal: 287ms\tremaining: 2.9ms\n",
      "99:\tlearn: 1061.6983538\ttotal: 288ms\tremaining: 0us\n"
     ]
    }
   ],
   "source": [
    "from catboost import CatBoostRegressor\n",
    "\n",
    "CatBoost = CatBoostRegressor(iterations=100, learning_rate=0.1, depth=3, loss_function='RMSE')\n",
    "CatBoost.fit(X, y)\n",
    "CatBoost_predictions = CatBoost.predict(salestest_df)\n"
   ]
  },
  {
   "cell_type": "code",
   "execution_count": 120,
   "id": "3fe01203",
   "metadata": {},
   "outputs": [],
   "source": [
    "CatBoost_predictions = np.where(CatBoost_predictions < 0, 0, CatBoost_predictions)"
   ]
  },
  {
   "cell_type": "code",
   "execution_count": 121,
   "id": "2dd36d99",
   "metadata": {},
   "outputs": [],
   "source": [
    "gbr_output = pd.DataFrame({\n",
    "    'Item_Identifier': salestest['Item_Identifier'],\n",
    "    'Outlet_Identifier': salestest['Outlet_Identifier'],\n",
    "    'Item_Outlet_Sales': CatBoost_predictions\n",
    "})"
   ]
  },
  {
   "cell_type": "code",
   "execution_count": 122,
   "id": "2f5ae850",
   "metadata": {},
   "outputs": [],
   "source": [
    "gbr_output.to_csv(\"CatBoost_predictions.csv\", index=False)"
   ]
  },
  {
   "cell_type": "code",
   "execution_count": null,
   "id": "79610be1",
   "metadata": {},
   "outputs": [],
   "source": []
  }
 ],
 "metadata": {
  "kernelspec": {
   "display_name": "Python 3 (ipykernel)",
   "language": "python",
   "name": "python3"
  },
  "language_info": {
   "codemirror_mode": {
    "name": "ipython",
    "version": 3
   },
   "file_extension": ".py",
   "mimetype": "text/x-python",
   "name": "python",
   "nbconvert_exporter": "python",
   "pygments_lexer": "ipython3",
   "version": "3.11.4"
  }
 },
 "nbformat": 4,
 "nbformat_minor": 5
}
